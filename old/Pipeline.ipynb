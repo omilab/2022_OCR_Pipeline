{
 "cells": [
  {
   "cell_type": "markdown",
   "metadata": {},
   "source": [
    "# OCR Pipeline: From Legacy through PAGE.xml to XML-TEI\n",
    "## The data flow includes the following suggested steps, which can be modified as needed:\n",
    "1. Convert Olive software produced physical and logical (PRXML layout data into a PAGE xml (pxml) format. The conversion excludes the publication text, which is assumed to contain errors.\n",
    "2. Upload pxmls and scans of the document into Transkribus server.\n",
    "3. Run Baseline detection for the document on Transkribus server.\n",
    "4. Download the document.\n",
    "5. Modify and extend baselines coordinates.\n",
    "6. Upload the document.\n",
    "7. Run HTR for the document on Transkribus server.\n",
    "8. Download the document.\n",
    "9. Convert and combine the document data into TEI format."
   ]
  },
  {
   "cell_type": "markdown",
   "metadata": {},
   "source": [
    "## Convert Abbyy Olive document layout into PageXML format"
   ]
  },
  {
   "cell_type": "code",
   "execution_count": 1,
   "metadata": {
    "collapsed": true
   },
   "outputs": [],
   "source": [
    "from TkbsDocument import Document\n",
    "\n",
    "p = Document()\n",
    "p.load_aby_data(\"C:\\\\TkbsTest\\\\0105\\\\\")\n",
    "p.export_tkbs_format(\"C:\\\\TkbsTest\\\\PXML_Converted\\\\\")\n"
   ]
  },
  {
   "cell_type": "markdown",
   "metadata": {},
   "source": [
    "## Upload PageXML format into Transkribus server\n",
    "For Transkribus documentation: https://transkribus.eu/wiki/index.php/Upload_via_REST_API"
   ]
  },
  {
   "cell_type": "code",
   "execution_count": 8,
   "metadata": {},
   "outputs": [
    {
     "name": "stdout",
     "output_type": "stream",
     "text": [ 
      "session id: FDE3D402AE64865E0751EAD9C7C9A0BB\n",
      "<?xml version=\"1.0\" encoding=\"UTF-8\" standalone=\"yes\"?><trpUpload><md><docId>-1</docId><title>HaZfirah Load Test</title><author>Nurit</author><uploadTimestamp>0</uploadTimestamp><uploaderId>0</uploaderId><nrOfPages>0</nrOfPages><collectionList/></md><pageList><pages><fileName>Pg001_150.png</fileName><pageXmlName>Pg001_150.pxml</pageXmlName><pageUploaded>true</pageUploaded><pageNr>1</pageNr></pages><pages><fileName>Pg002_150.png</fileName><pageXmlName>Pg002_150.pxml</pageXmlName><pageUploaded>true</pageUploaded><pageNr>2</pageNr></pages></pageList><uploadId>7057</uploadId><created>2019-04-21T15:30:28.831+02:00</created><finished>2019-04-21T15:30:35.529+02:00</finished><userId>17463</userId><userName>nurit.grd@gmail.com</userName><nrOfPagesTotal>2</nrOfPagesTotal><uploadType>JSON</uploadType><jobId>15692</jobId><colId>2455</colId></trpUpload>\n"
     ]
    }
   ],
   "source": [
    "from TkbsApiClient import TranskribusClient\n",
    "\n",
    "user = \"user.name@mailserver.com\"\n",
    "key = \"password\"\n",
    "collection = \"2455\"\n",
    "tkbs = TranskribusClient(sServerUrl='https://transkribus.eu/TrpServerTesting')\n",
    "tkbs.auth_login(user, key, True)\n",
    "print(\"session id: \" + tkbs.getSessionId())\n",
    "\n",
    "loadfolder = \"C:\\\\TkbsTest\\\\PXML_Converted\\\\\"\n",
    "img1 = loadfolder + \"Pg001_150.png\"\n",
    "xml1 = loadfolder + \"Pg001_150.pxml\"\n",
    "img2 = loadfolder + \"Pg002_150.png\"\n",
    "xml2 = loadfolder + \"Pg002_150.pxml\"\n",
    "\n",
    "jstring = '{\"md\": {\"title\": \"HaZfirah Load Test\", \"author\": \"Nurit\", \"description\": \"Test\"}\\\n",
    "    , \"pageList\": {\"pages\": [\\\n",
    "    {\"fileName\": \"Pg001_150.png\", \"pageXmlName\": \"Pg001_150.pxml\", \"pageNr\": 1}, \\\n",
    "    {\"fileName\": \"Pg002_150.png\", \"pageXmlName\": \"Pg002_150.pxml\", \"pageNr\": 2}]}}'\n",
    "imgobject1 = open(img1, 'rb')\n",
    "imgobject2 = open(img2, 'rb')\n",
    "xmlobject1 = open(xml1, 'rb')\n",
    "xmlobject2 = open(xml2, 'rb')\n",
    "pfiles = []\n",
    "pfiles.append({'img': ('Pg001_150.png', imgobject1, 'application/octet-stream'), 'xml': ('Pg001_150.pxml', xmlobject1, 'application/octet-stream')})\n",
    "pfiles.append({'img': ('Pg002_150.png', imgobject2, 'application/octet-stream'), 'xml': ('Pg002_150.pxml', xmlobject2, 'application/octet-stream')})\n",
    "\n",
    "response = tkbs.createDocFromImages(collection, jstring, pfiles)\n",
    "print(response)"
   ]
  },
  {
   "cell_type": "markdown",
   "metadata": {
    "collapsed": true
   },
   "source": [
    "## Run Baseline Detection\n",
    "For Transkribus documentation: https://transkribus.eu/wiki/index.php/Layout_Analysis_API"
   ]
  },
  {
   "cell_type": "code",
   "execution_count": 9,
   "metadata": {},
   "outputs": [
    {
     "name": "stdout",
     "output_type": "stream",
     "text": [
      "<?xml version=\"1.0\" encoding=\"UTF-8\" standalone=\"yes\"?><trpJobStatuses><trpJobStatus><jobId>15693</jobId><docId>5577</docId><pageNr>-1</pageNr><type>Layout analysis (CITlabAdvancedLaJob: lines)</type><state>CREATED</state><success>false</success><description></description><userName>nurit.grd@gmail.com</userName><userId>17463</userId><createTime>1555853486706</createTime><startTime>0</startTime><endTime>0</endTime><jobData>#Sun Apr 21 15:31:26 CEST 2019\n",
      "doWordSeg=false\n",
      "doLineSeg=true\n",
      "docDescs.0=&lt;?xml version\\=\"1.0\" encoding\\=\"UTF-8\" standalone\\=\"yes\"?&gt;\\n&lt;documentSelectionDescriptor&gt;\\n    &lt;docId&gt;5577&lt;/docId&gt;\\n    &lt;pageList&gt;\\n        &lt;pages&gt;\\n            &lt;pageId&gt;18432&lt;/pageId&gt;\\n        &lt;/pages&gt;\\n    &lt;/pageList&gt;\\n&lt;/documentSelectionDescriptor&gt;\\n\n",
      "doPolygonToBaseline=false\n",
      "doBaselineToPolygon=false\n",
      "doBlockSeg=false\n",
      "</jobData><resumable>false</resumable><jobImpl>CITlabAdvancedLaJobMultiThread</jobImpl><created>2019-04-21T15:31:26.706+02:00</created><colId>2455</colId><nrOfErrors>0</nrOfErrors></trpJobStatus></trpJobStatuses>\n"
     ]
    }
   ],
   "source": [
    "docid = \"5577\"\n",
    "pageid = \"18432\"\n",
    "\n",
    "doc_parts = '{\\\n",
    "   \"docList\" : {\\\n",
    "      \"docs\" : [ {\\\n",
    "         \"docId\" : ' + str(docid) + ',\\\n",
    "         \"pageList\" : {\\\n",
    "            \"pages\" : [ {\\\n",
    "               \"pageId\" : ' + str(pageid) + '} ]\\\n",
    "         }\\\n",
    "      } ]\\\n",
    "   }\\\n",
    "}'\n",
    "d = json.loads(doc_parts)\n",
    "response = tkbs.analyzeLayout(colId=collection, docPagesJson=doc_parts, bBlockSeg=False, bLineSeg=True)\n",
    "print(response)"
   ]
  },
  {
   "cell_type": "markdown",
   "metadata": {},
   "source": [
    "## Download Transkribus Document"
   ]
  },
  {
   "cell_type": "code",
   "execution_count": 10,
   "metadata": {},
   "outputs": [
    {
     "name": "stdout",
     "output_type": "stream",
     "text": [
      "(1544434628769, ['Pg001_150', 'Pg002_150'])\n"
     ]
    }
   ],
   "source": [
    "response = tkbs.download_document(collection, docid, \"C:\\\\TkbsTest\\\\Baseline_\" + str(collection) + \"_\" + str(docid))\n",
    "print(response)"
   ]
  },
  {
   "cell_type": "markdown",
   "metadata": {},
   "source": [
    "## Extend Baseline Coordinates"
   ]
  },
  {
   "cell_type": "code",
   "execution_count": 13,
   "metadata": {},
   "outputs": [
    {
     "name": "stdout",
     "output_type": "stream",
     "text": [
      "BASELINE CHANGED: C:\\TkbsTest\\Baseline_21675_86775\\Pg001_150.pxml\n",
      "BASELINE CHANGED: C:\\TkbsTest\\Baseline_21675_86775\\Pg002_150.pxml\n",
      "BASELINE CHANGED: C:\\TkbsTest\\Baseline_21675_86775\\Pg003_150.pxml\n",
      "BASELINE CHANGED: C:\\TkbsTest\\Baseline_21675_86775\\Pg004_150.pxml\n",
      "BASELINE CHANGED: C:\\TkbsTest\\Baseline_21675_86775\\Pg005_150.pxml\n",
      "BASELINE CHANGED: C:\\TkbsTest\\Baseline_21675_86775\\Pg006_150.pxml\n",
      "BASELINE CHANGED: C:\\TkbsTest\\Baseline_21675_86775\\Pg007_150.pxml\n",
      "BASELINE CHANGED: C:\\TkbsTest\\Baseline_21675_86775\\Pg008_150.pxml\n"
     ]
    }
   ],
   "source": [
    "import os\n",
    "import xml.etree.cElementTree as ET\n",
    "\n",
    "def edit_pg_baseline(pgfile, addpoints):\n",
    "    ET.register_namespace('', \"http://schema.primaresearch.org/PAGE/gts/pagecontent/2013-07-15\")\n",
    "    tree = ET.ElementTree(file=pgfile)\n",
    "    xml_changed = False\n",
    "    for myelement in tree.iterfind('*/*/*/*'):\n",
    "        if myelement.tag.endswith(\"Baseline\"):\n",
    "            xml_changed = True\n",
    "            points = myelement.attrib.get('points')\n",
    "            points_list = points.split(\" \")\n",
    "            startpoint = str(int(points_list[0].split(\",\")[0]) - addpoints) + \",\" + points_list[0].split(\",\")[1]\n",
    "            endpoint = str(int(points_list[(len(points_list) - 1)].split(\",\")[0]) + addpoints) + \",\" + points_list[(len(points_list) - 1)].split(\",\")[1]\n",
    "            new_points = startpoint + \" \" + points + \" \" + endpoint\n",
    "            myelement.set('points', new_points)\n",
    "    if (xml_changed):\n",
    "        tree.write(pgfile)\n",
    "        print(\"BASELINE CHANGED: \" + pgfile)\n",
    "\n",
    "\n",
    "for root, dirs, files in os.walk(\"C:\\\\TkbsTest\\\\Baseline_21675_86775\"):\n",
    "    for fname in files:\n",
    "        if fname.upper().endswith(\".PXML\") and fname.upper().startswith(\"PG\"):\n",
    "            fullname = root + \"\\\\\" + fname\n",
    "            edit_pg_baseline(fullname, 10)\n",
    "\n"
   ]
  },
  {
   "cell_type": "markdown",
   "metadata": {},
   "source": [
    "## Run OCR\n",
    "For Transkribus documentation: https://transkribus.eu/wiki/index.php/HTR#Recognition"
   ]
  },
  {
   "cell_type": "code",
   "execution_count": 15,
   "metadata": {},
   "outputs": [
    {
     "name": "stdout",
     "output_type": "stream",
     "text": [
      "15695\n"
     ]
    }
   ],
   "source": [
    "docid = \"5577\"\n",
    "pageid = \"18432\"\n",
    "dictionaryName = \"\"\n",
    "HTRmodelid = \"41\"\n",
    "\n",
    "jstring = '{\\\n",
    "   \"docId\" : ' + docid + ',\\\n",
    "   \"pageList\" : {\\\n",
    "      \"pages\" : [ {\\\n",
    "         \"pageId\" : ' + pageid + '\\\n",
    "      } ]\\\n",
    "   }\\\n",
    "}'\n",
    "      \n",
    "response = tkbs.htrRnnDecode(collection, HTRmodelid, dictionaryName, docid, jstring, bDictTemp=False)\n",
    "print(response)"
   ]
  },
  {
   "cell_type": "code",
   "execution_count": null,
   "metadata": {
    "collapsed": true
   },
   "outputs": [],
   "source": []
  }
 ],
 "metadata": {
  "kernelspec": {
   "display_name": "Python 3",
   "language": "python",
   "name": "python3"
  },
  "language_info": {
   "codemirror_mode": {
    "name": "ipython",
    "version": 3
   },
   "file_extension": ".py",
   "mimetype": "text/x-python",
   "name": "python",
   "nbconvert_exporter": "python",
   "pygments_lexer": "ipython3",
   "version": "3.6.1"
  }
 },
 "nbformat": 4,
 "nbformat_minor": 2
}
